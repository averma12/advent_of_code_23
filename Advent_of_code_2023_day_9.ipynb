{
  "nbformat": 4,
  "nbformat_minor": 0,
  "metadata": {
    "colab": {
      "provenance": [],
      "authorship_tag": "ABX9TyPJ7DZbV8bPK/2W/LxveKyy",
      "include_colab_link": true
    },
    "kernelspec": {
      "name": "python3",
      "display_name": "Python 3"
    },
    "language_info": {
      "name": "python"
    }
  },
  "cells": [
    {
      "cell_type": "markdown",
      "metadata": {
        "id": "view-in-github",
        "colab_type": "text"
      },
      "source": [
        "<a href=\"https://colab.research.google.com/github/averma12/advent_of_code_23/blob/main/Advent_of_code_2023_day_9.ipynb\" target=\"_parent\"><img src=\"https://colab.research.google.com/assets/colab-badge.svg\" alt=\"Open In Colab\"/></a>"
      ]
    },
    {
      "cell_type": "code",
      "execution_count": 1,
      "metadata": {
        "colab": {
          "base_uri": "https://localhost:8080/"
        },
        "id": "4lKhnyGGmIpp",
        "outputId": "286955f7-9866-48df-fb0e-7c1945442992"
      },
      "outputs": [
        {
          "output_type": "stream",
          "name": "stdout",
          "text": [
            "Collecting aoc-colab-template==0.1.8\n",
            "  Downloading aoc_colab_template-0.1.8-py3-none-any.whl.metadata (3.8 kB)\n",
            "Requirement already satisfied: ipython in /usr/local/lib/python3.10/dist-packages (from aoc-colab-template==0.1.8) (7.34.0)\n",
            "Collecting advent-of-code-data (from aoc-colab-template==0.1.8)\n",
            "  Downloading advent_of_code_data-2.1.0-py3-none-any.whl.metadata (11 kB)\n",
            "Requirement already satisfied: beautifulsoup4 in /usr/local/lib/python3.10/dist-packages (from advent-of-code-data->aoc-colab-template==0.1.8) (4.12.3)\n",
            "Collecting pebble (from advent-of-code-data->aoc-colab-template==0.1.8)\n",
            "  Downloading Pebble-5.1.0-py3-none-any.whl.metadata (3.6 kB)\n",
            "Requirement already satisfied: urllib3 in /usr/local/lib/python3.10/dist-packages (from advent-of-code-data->aoc-colab-template==0.1.8) (2.3.0)\n",
            "Collecting aocd-example-parser>=2023.12.24 (from advent-of-code-data->aoc-colab-template==0.1.8)\n",
            "  Downloading aocd_example_parser-2024.12.25-py3-none-any.whl.metadata (8.9 kB)\n",
            "Requirement already satisfied: setuptools>=18.5 in /usr/local/lib/python3.10/dist-packages (from ipython->aoc-colab-template==0.1.8) (75.1.0)\n",
            "Collecting jedi>=0.16 (from ipython->aoc-colab-template==0.1.8)\n",
            "  Downloading jedi-0.19.2-py2.py3-none-any.whl.metadata (22 kB)\n",
            "Requirement already satisfied: decorator in /usr/local/lib/python3.10/dist-packages (from ipython->aoc-colab-template==0.1.8) (4.4.2)\n",
            "Requirement already satisfied: pickleshare in /usr/local/lib/python3.10/dist-packages (from ipython->aoc-colab-template==0.1.8) (0.7.5)\n",
            "Requirement already satisfied: traitlets>=4.2 in /usr/local/lib/python3.10/dist-packages (from ipython->aoc-colab-template==0.1.8) (5.7.1)\n",
            "Requirement already satisfied: prompt-toolkit!=3.0.0,!=3.0.1,<3.1.0,>=2.0.0 in /usr/local/lib/python3.10/dist-packages (from ipython->aoc-colab-template==0.1.8) (3.0.48)\n",
            "Requirement already satisfied: pygments in /usr/local/lib/python3.10/dist-packages (from ipython->aoc-colab-template==0.1.8) (2.18.0)\n",
            "Requirement already satisfied: backcall in /usr/local/lib/python3.10/dist-packages (from ipython->aoc-colab-template==0.1.8) (0.2.0)\n",
            "Requirement already satisfied: matplotlib-inline in /usr/local/lib/python3.10/dist-packages (from ipython->aoc-colab-template==0.1.8) (0.1.7)\n",
            "Requirement already satisfied: pexpect>4.3 in /usr/local/lib/python3.10/dist-packages (from ipython->aoc-colab-template==0.1.8) (4.9.0)\n",
            "Requirement already satisfied: parso<0.9.0,>=0.8.4 in /usr/local/lib/python3.10/dist-packages (from jedi>=0.16->ipython->aoc-colab-template==0.1.8) (0.8.4)\n",
            "Requirement already satisfied: ptyprocess>=0.5 in /usr/local/lib/python3.10/dist-packages (from pexpect>4.3->ipython->aoc-colab-template==0.1.8) (0.7.0)\n",
            "Requirement already satisfied: wcwidth in /usr/local/lib/python3.10/dist-packages (from prompt-toolkit!=3.0.0,!=3.0.1,<3.1.0,>=2.0.0->ipython->aoc-colab-template==0.1.8) (0.2.13)\n",
            "Requirement already satisfied: soupsieve>1.2 in /usr/local/lib/python3.10/dist-packages (from beautifulsoup4->advent-of-code-data->aoc-colab-template==0.1.8) (2.6)\n",
            "Downloading aoc_colab_template-0.1.8-py3-none-any.whl (4.6 kB)\n",
            "Downloading advent_of_code_data-2.1.0-py3-none-any.whl (39 kB)\n",
            "Downloading aocd_example_parser-2024.12.25-py3-none-any.whl (13 kB)\n",
            "Downloading jedi-0.19.2-py2.py3-none-any.whl (1.6 MB)\n",
            "\u001b[2K   \u001b[90m━━━━━━━━━━━━━━━━━━━━━━━━━━━━━━━━━━━━━━━━\u001b[0m \u001b[32m1.6/1.6 MB\u001b[0m \u001b[31m15.8 MB/s\u001b[0m eta \u001b[36m0:00:00\u001b[0m\n",
            "\u001b[?25hDownloading Pebble-5.1.0-py3-none-any.whl (36 kB)\n",
            "Installing collected packages: pebble, jedi, aocd-example-parser, advent-of-code-data, aoc-colab-template\n",
            "Successfully installed advent-of-code-data-2.1.0 aoc-colab-template-0.1.8 aocd-example-parser-2024.12.25 jedi-0.19.2 pebble-5.1.0\n"
          ]
        }
      ],
      "source": [
        "!pip install aoc-colab-template==0.1.8\n",
        "from aoc_colab_template import create_template\n",
        "#create_template()"
      ]
    },
    {
      "cell_type": "code",
      "source": [
        "create_template()"
      ],
      "metadata": {
        "id": "IUrUjbX7nY6I",
        "colab": {
          "base_uri": "https://localhost:8080/"
        },
        "outputId": "cfaaa2b6-c1c8-44df-f9b1-28f3dc51cd15"
      },
      "execution_count": 2,
      "outputs": [
        {
          "output_type": "stream",
          "name": "stdout",
          "text": [
            "You are in colab environment\n",
            "Collecting aocd\n",
            "  Downloading aocd-0.1-py2.py3-none-any.whl.metadata (815 bytes)\n",
            "Requirement already satisfied: advent-of-code-data in /usr/local/lib/python3.10/dist-packages (from aocd) (2.1.0)\n",
            "Requirement already satisfied: beautifulsoup4 in /usr/local/lib/python3.10/dist-packages (from advent-of-code-data->aocd) (4.12.3)\n",
            "Requirement already satisfied: pebble in /usr/local/lib/python3.10/dist-packages (from advent-of-code-data->aocd) (5.1.0)\n",
            "Requirement already satisfied: urllib3 in /usr/local/lib/python3.10/dist-packages (from advent-of-code-data->aocd) (2.3.0)\n",
            "Requirement already satisfied: aocd-example-parser>=2023.12.24 in /usr/local/lib/python3.10/dist-packages (from advent-of-code-data->aocd) (2024.12.25)\n",
            "Requirement already satisfied: soupsieve>1.2 in /usr/local/lib/python3.10/dist-packages (from beautifulsoup4->advent-of-code-data->aocd) (2.6)\n",
            "Downloading aocd-0.1-py2.py3-none-any.whl (1.3 kB)\n",
            "Installing collected packages: aocd\n",
            "Successfully installed aocd-0.1\n"
          ]
        }
      ]
    },
    {
      "cell_type": "code",
      "source": [
        "data = get_aocd_data(day=9,year=2023)"
      ],
      "metadata": {
        "id": "gmMeNTtnUNuy"
      },
      "execution_count": 5,
      "outputs": []
    },
    {
      "cell_type": "code",
      "source": [
        "lines = data.splitlines()"
      ],
      "metadata": {
        "id": "hUnyHPx3ZhA7"
      },
      "execution_count": 9,
      "outputs": []
    },
    {
      "cell_type": "code",
      "source": [
        "lines[0]"
      ],
      "metadata": {
        "colab": {
          "base_uri": "https://localhost:8080/",
          "height": 35
        },
        "collapsed": true,
        "id": "Qp-c9WTBUHFS",
        "outputId": "c6e72eb3-7273-40f6-b74a-d87faab3452b"
      },
      "execution_count": 10,
      "outputs": [
        {
          "output_type": "execute_result",
          "data": {
            "text/plain": [
              "'13 33 54 85 159 343 748 1539 2945 5269 8898 14313 22099 32955 47704 67303 92853 125609 166990 218589 282183'"
            ],
            "application/vnd.google.colaboratory.intrinsic+json": {
              "type": "string"
            }
          },
          "metadata": {},
          "execution_count": 10
        }
      ]
    },
    {
      "cell_type": "code",
      "source": [],
      "metadata": {
        "id": "RJyABYTn9Vak"
      },
      "execution_count": null,
      "outputs": []
    },
    {
      "cell_type": "code",
      "source": [
        "number_list_line_1 = lines[0].split()"
      ],
      "metadata": {
        "id": "yKLAn3ijKe0T"
      },
      "execution_count": 11,
      "outputs": []
    },
    {
      "cell_type": "code",
      "source": [
        "number_list_line_1 = [int(num) for num in number_list_line_1]"
      ],
      "metadata": {
        "id": "D0U7iqS5Mh_5"
      },
      "execution_count": 13,
      "outputs": []
    },
    {
      "cell_type": "code",
      "source": [
        "number_list_line_1"
      ],
      "metadata": {
        "colab": {
          "base_uri": "https://localhost:8080/"
        },
        "id": "YfVtjiFnMvdt",
        "outputId": "2fe7a67f-af2c-4368-e0d2-d2f1e4435b17"
      },
      "execution_count": 14,
      "outputs": [
        {
          "output_type": "execute_result",
          "data": {
            "text/plain": [
              "[13,\n",
              " 33,\n",
              " 54,\n",
              " 85,\n",
              " 159,\n",
              " 343,\n",
              " 748,\n",
              " 1539,\n",
              " 2945,\n",
              " 5269,\n",
              " 8898,\n",
              " 14313,\n",
              " 22099,\n",
              " 32955,\n",
              " 47704,\n",
              " 67303,\n",
              " 92853,\n",
              " 125609,\n",
              " 166990,\n",
              " 218589,\n",
              " 282183]"
            ]
          },
          "metadata": {},
          "execution_count": 14
        }
      ]
    },
    {
      "cell_type": "code",
      "source": [
        "def next_term_by_differences(sequence):\n",
        "    \"\"\"\n",
        "    Uses finite differences to predict the next term in a sequence.\n",
        "    If a row of differences becomes constant, it assumes a polynomial of that degree.\n",
        "\n",
        "    :param sequence: A list of numbers (ints or floats).\n",
        "    :return: The next term (int) based on the pattern.\n",
        "    \"\"\"\n",
        "    # Store all levels of differences in a list of lists\n",
        "    diffs_levels = []\n",
        "    current_level = sequence\n",
        "\n",
        "    # Calculate differences until we can or until it's pointless\n",
        "    while True:\n",
        "        # Build a list of consecutive differences in current_level\n",
        "        next_diffs = [current_level[i+1] - current_level[i] for i in range(len(current_level) - 1)]\n",
        "        diffs_levels.append(next_diffs)\n",
        "\n",
        "        # If we don't have at least two elements in next_diffs, we can't proceed further\n",
        "        if len(next_diffs) < 2:\n",
        "            break\n",
        "\n",
        "        # Check if next_diffs is constant (within an integer or float tolerance).\n",
        "        # all(next_diffs[i] == next_diffs[0]) basically checks if every element\n",
        "        # in next_diffs is the same as the first one.\n",
        "        if all(next_diffs[i] == next_diffs[0] for i in range(1, len(next_diffs))):\n",
        "            # Found a constant difference at this level — meaning we likely have\n",
        "            # a polynomial of that degree\n",
        "            break\n",
        "\n",
        "        # If differences are not constant yet, move to the next level of differences\n",
        "        # by setting current_level to next_diffs. We'll keep going deeper.\n",
        "        current_level = next_diffs\n",
        "\n",
        "    # If the last list in diffs_levels is empty, that means we found no pattern.\n",
        "    last_diffs = diffs_levels[-1]\n",
        "    if len(last_diffs) == 0:\n",
        "        raise ValueError(\"Insufficient data or no pattern found.\")\n",
        "\n",
        "    # We'll assume that last_diffs is constant, so we take the first element\n",
        "    # (the “constant difference”) for the next step.\n",
        "    constant_diff = last_diffs[0]\n",
        "    # next_diffs_value is the additional piece we’ll add in the “back up” phase.\n",
        "    next_diffs_value = constant_diff\n",
        "\n",
        "    # Now we go back up the chain of differences:\n",
        "    # Think of each level as one dimension of differences. We add the new difference\n",
        "    # to the last known difference at that level to get the next difference\n",
        "    # in that level, and so on, until we reach the original sequence level.\n",
        "    for level in range(len(diffs_levels) - 2, -1, -1):\n",
        "        # diffs_levels[level] is a list of differences at a certain level.\n",
        "        # diffs_levels[level][-1] is the *last* difference in that level.\n",
        "        # By adding next_diffs_value, we’re extending that difference by one step.\n",
        "        next_val_in_that_level = diffs_levels[level][-1] + next_diffs_value\n",
        "\n",
        "        # Update next_diffs_value so it can be used in the next iteration up (the next level).\n",
        "        next_diffs_value = next_val_in_that_level\n",
        "\n",
        "    # After climbing back up, next_diffs_value now represents how much\n",
        "    # the last original sequence value will change to get the next term.\n",
        "    next_term = sequence[-1] + next_diffs_value\n",
        "\n",
        "    return next_term\n",
        "\n",
        "\n",
        "# ---------------- Example usage ----------------\n",
        "\n",
        "seq = [13, 33, 54, 85, 159, 343, 748, 1539, 2945, 5269]\n",
        "predicted_next = next_term_by_differences(seq)\n",
        "print(\"Next term is:\", predicted_next)  # Expected: 8898"
      ],
      "metadata": {
        "colab": {
          "base_uri": "https://localhost:8080/"
        },
        "id": "OZiR-lWkM-Dw",
        "outputId": "5d80fa29-0d1b-439b-f28d-37522932981d"
      },
      "execution_count": 15,
      "outputs": [
        {
          "output_type": "stream",
          "name": "stdout",
          "text": [
            "Next term is: 8898\n"
          ]
        }
      ]
    },
    {
      "cell_type": "code",
      "source": [
        "predicted_next = next_term_by_differences(number_list_line_1)"
      ],
      "metadata": {
        "id": "uDHv5MlUNJPf"
      },
      "execution_count": 16,
      "outputs": []
    },
    {
      "cell_type": "code",
      "source": [
        "predicted_next"
      ],
      "metadata": {
        "colab": {
          "base_uri": "https://localhost:8080/"
        },
        "id": "vsfO4hKs9OKG",
        "outputId": "f06e2356-48dd-405b-cef3-ea7d02114670"
      },
      "execution_count": 17,
      "outputs": [
        {
          "output_type": "execute_result",
          "data": {
            "text/plain": [
              "359743"
            ]
          },
          "metadata": {},
          "execution_count": 17
        }
      ]
    },
    {
      "cell_type": "code",
      "source": [
        "number_sequences = [line.split() for line in lines ]"
      ],
      "metadata": {
        "id": "puZA3_LV9Qwf"
      },
      "execution_count": 18,
      "outputs": []
    },
    {
      "cell_type": "code",
      "source": [
        "number_sequences = [[int(num) for num in line] for line in number_sequences]"
      ],
      "metadata": {
        "id": "1uxtU35y9jwI"
      },
      "execution_count": 21,
      "outputs": []
    },
    {
      "cell_type": "code",
      "source": [
        "sum = 0\n",
        "for sequence in number_sequences:\n",
        "    sum += next_term_by_differences(sequence)"
      ],
      "metadata": {
        "id": "0f-iORXD9ldg"
      },
      "execution_count": 22,
      "outputs": []
    },
    {
      "cell_type": "code",
      "source": [
        "sum"
      ],
      "metadata": {
        "colab": {
          "base_uri": "https://localhost:8080/"
        },
        "id": "THd0m9He9t4f",
        "outputId": "ef47a1d7-a8f6-4b8a-c05d-1434ebc4408c"
      },
      "execution_count": 23,
      "outputs": [
        {
          "output_type": "execute_result",
          "data": {
            "text/plain": [
              "2098530125"
            ]
          },
          "metadata": {},
          "execution_count": 23
        }
      ]
    },
    {
      "cell_type": "code",
      "source": [
        "number_sequences[0]"
      ],
      "metadata": {
        "colab": {
          "base_uri": "https://localhost:8080/"
        },
        "id": "TaXqGKMe_069",
        "outputId": "b325fbf7-4dbe-4682-d33a-cef6be1d2e6b"
      },
      "execution_count": 29,
      "outputs": [
        {
          "output_type": "execute_result",
          "data": {
            "text/plain": [
              "[13,\n",
              " 33,\n",
              " 54,\n",
              " 85,\n",
              " 159,\n",
              " 343,\n",
              " 748,\n",
              " 1539,\n",
              " 2945,\n",
              " 5269,\n",
              " 8898,\n",
              " 14313,\n",
              " 22099,\n",
              " 32955,\n",
              " 47704,\n",
              " 67303,\n",
              " 92853,\n",
              " 125609,\n",
              " 166990,\n",
              " 218589,\n",
              " 282183]"
            ]
          },
          "metadata": {},
          "execution_count": 29
        }
      ]
    },
    {
      "cell_type": "code",
      "source": [
        "total_sum = 0\n",
        "for sequence in number_sequences:\n",
        "    reversed_list = list(reversed(sequence))\n",
        "    total_sum += next_term_by_differences(reversed_list)"
      ],
      "metadata": {
        "id": "s-vPbl7t9u58"
      },
      "execution_count": 30,
      "outputs": []
    },
    {
      "cell_type": "code",
      "source": [
        "total_sum"
      ],
      "metadata": {
        "colab": {
          "base_uri": "https://localhost:8080/"
        },
        "id": "kawQ441HApp8",
        "outputId": "e92cc678-9fcb-4388-a745-5f7906171c90"
      },
      "execution_count": 31,
      "outputs": [
        {
          "output_type": "execute_result",
          "data": {
            "text/plain": [
              "1016"
            ]
          },
          "metadata": {},
          "execution_count": 31
        }
      ]
    },
    {
      "cell_type": "code",
      "source": [],
      "metadata": {
        "id": "Ks71Op7wAqTP"
      },
      "execution_count": null,
      "outputs": []
    }
  ]
}