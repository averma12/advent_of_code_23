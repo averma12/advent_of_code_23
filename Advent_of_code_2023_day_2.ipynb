{
  "nbformat": 4,
  "nbformat_minor": 0,
  "metadata": {
    "colab": {
      "provenance": [],
      "authorship_tag": "ABX9TyPKYWp1AZv+qCDBz5qtgiaz",
      "include_colab_link": true
    },
    "kernelspec": {
      "name": "python3",
      "display_name": "Python 3"
    },
    "language_info": {
      "name": "python"
    }
  },
  "cells": [
    {
      "cell_type": "markdown",
      "metadata": {
        "id": "view-in-github",
        "colab_type": "text"
      },
      "source": [
        "<a href=\"https://colab.research.google.com/github/averma12/advent_of_code_23/blob/main/Advent_of_code_2023_day_2.ipynb\" target=\"_parent\"><img src=\"https://colab.research.google.com/assets/colab-badge.svg\" alt=\"Open In Colab\"/></a>"
      ]
    },
    {
      "cell_type": "code",
      "execution_count": 1,
      "metadata": {
        "colab": {
          "base_uri": "https://localhost:8080/"
        },
        "id": "T1cpXhEXobAt",
        "outputId": "21c86bde-8094-4331-d463-daa34d55b3e6"
      },
      "outputs": [
        {
          "output_type": "stream",
          "name": "stdout",
          "text": [
            "Collecting aocd\n",
            "  Downloading aocd-0.1-py2.py3-none-any.whl.metadata (815 bytes)\n",
            "Collecting advent-of-code-data (from aocd)\n",
            "  Downloading advent_of_code_data-2.0.4-py3-none-any.whl.metadata (11 kB)\n",
            "Requirement already satisfied: beautifulsoup4 in /usr/local/lib/python3.10/dist-packages (from advent-of-code-data->aocd) (4.12.3)\n",
            "Collecting pebble (from advent-of-code-data->aocd)\n",
            "  Downloading Pebble-5.1.0-py3-none-any.whl.metadata (3.6 kB)\n",
            "Requirement already satisfied: urllib3 in /usr/local/lib/python3.10/dist-packages (from advent-of-code-data->aocd) (2.2.3)\n",
            "Collecting aocd-example-parser>=2023.2 (from advent-of-code-data->aocd)\n",
            "  Downloading aocd_example_parser-2023.12.20-py3-none-any.whl.metadata (8.9 kB)\n",
            "Requirement already satisfied: soupsieve>1.2 in /usr/local/lib/python3.10/dist-packages (from beautifulsoup4->advent-of-code-data->aocd) (2.6)\n",
            "Downloading aocd-0.1-py2.py3-none-any.whl (1.3 kB)\n",
            "Downloading advent_of_code_data-2.0.4-py3-none-any.whl (38 kB)\n",
            "Downloading aocd_example_parser-2023.12.20-py3-none-any.whl (12 kB)\n",
            "Downloading Pebble-5.1.0-py3-none-any.whl (36 kB)\n",
            "Installing collected packages: pebble, aocd-example-parser, advent-of-code-data, aocd\n",
            "Successfully installed advent-of-code-data-2.0.4 aocd-0.1 aocd-example-parser-2023.12.20 pebble-5.1.0\n"
          ]
        }
      ],
      "source": [
        "! pip install aocd"
      ]
    },
    {
      "cell_type": "code",
      "source": [
        "from google.colab import userdata\n",
        "AOC_SESSION = userdata.get('AOC_SESSION')"
      ],
      "metadata": {
        "id": "WfPCJQzUokRh"
      },
      "execution_count": 3,
      "outputs": []
    },
    {
      "cell_type": "code",
      "source": [
        "import os\n",
        "os.environ[\"AOC_SESSION\"] = AOC_SESSION"
      ],
      "metadata": {
        "id": "iEHz13IlopDn"
      },
      "execution_count": 4,
      "outputs": []
    },
    {
      "cell_type": "code",
      "source": [
        "from aocd import get_data"
      ],
      "metadata": {
        "id": "NuXBx_SXorB9"
      },
      "execution_count": 5,
      "outputs": []
    },
    {
      "cell_type": "code",
      "source": [
        "inp = get_data(day=2, year=2023)\n",
        "inp[:50]"
      ],
      "metadata": {
        "colab": {
          "base_uri": "https://localhost:8080/",
          "height": 35
        },
        "id": "TZHr5RKCotBq",
        "outputId": "b4362d7b-d369-43a1-f073-be1fea1c97dd"
      },
      "execution_count": 7,
      "outputs": [
        {
          "output_type": "execute_result",
          "data": {
            "text/plain": [
              "'Game 1: 6 green, 3 blue; 3 red, 1 green; 4 green, '"
            ],
            "application/vnd.google.colaboratory.intrinsic+json": {
              "type": "string"
            }
          },
          "metadata": {},
          "execution_count": 7
        }
      ]
    },
    {
      "cell_type": "code",
      "source": [
        "day_2_list = inp.splitlines()"
      ],
      "metadata": {
        "id": "2Cy-Q6e9o8SL"
      },
      "execution_count": 8,
      "outputs": []
    },
    {
      "cell_type": "code",
      "source": [
        "day_2_list[1]"
      ],
      "metadata": {
        "colab": {
          "base_uri": "https://localhost:8080/",
          "height": 35
        },
        "id": "nO1sL8JHpAOe",
        "outputId": "d313c96e-98df-4394-fb00-fa18eae387cc"
      },
      "execution_count": 10,
      "outputs": [
        {
          "output_type": "execute_result",
          "data": {
            "text/plain": [
              "'Game 2: 2 red, 7 green; 13 green, 2 blue, 4 red; 4 green, 5 red, 1 blue; 1 blue, 9 red, 1 green'"
            ],
            "application/vnd.google.colaboratory.intrinsic+json": {
              "type": "string"
            }
          },
          "metadata": {},
          "execution_count": 10
        }
      ]
    },
    {
      "cell_type": "code",
      "source": [
        "sample = \"\"\"Game 1: 3 blue, 4 red; 1 red, 2 green, 6 blue; 2 green\n",
        "Game 2: 1 blue, 2 green; 3 green, 4 blue, 1 red; 1 green, 1 blue\n",
        "Game 3: 8 green, 6 blue, 20 red; 5 blue, 4 red, 13 green; 5 green, 1 red\n",
        "Game 4: 1 green, 3 red, 6 blue; 3 green, 6 red; 3 green, 15 blue, 14 red\n",
        "Game 5: 6 red, 1 blue, 3 green; 2 blue, 1 red, 2 green\"\"\""
      ],
      "metadata": {
        "id": "HTKV0ZyBpZqY"
      },
      "execution_count": 11,
      "outputs": []
    },
    {
      "cell_type": "code",
      "source": [
        "sample_list = sample.splitlines()"
      ],
      "metadata": {
        "id": "L8zemgAjpfmd"
      },
      "execution_count": 12,
      "outputs": []
    },
    {
      "cell_type": "code",
      "source": [
        "game_1 = sample_list[0]"
      ],
      "metadata": {
        "id": "PO_8M-Xcphuw"
      },
      "execution_count": 13,
      "outputs": []
    },
    {
      "cell_type": "code",
      "source": [
        "game_1"
      ],
      "metadata": {
        "colab": {
          "base_uri": "https://localhost:8080/",
          "height": 35
        },
        "id": "BW8Lq4FFpmCZ",
        "outputId": "3b16d91f-0f4a-47bf-d11b-eb4c20e9f98c"
      },
      "execution_count": 14,
      "outputs": [
        {
          "output_type": "execute_result",
          "data": {
            "text/plain": [
              "'Game 1: 3 blue, 4 red; 1 red, 2 green, 6 blue; 2 green'"
            ],
            "application/vnd.google.colaboratory.intrinsic+json": {
              "type": "string"
            }
          },
          "metadata": {},
          "execution_count": 14
        }
      ]
    },
    {
      "cell_type": "code",
      "source": [
        "## Let's go and get game 1 solution\n",
        "mini_games = game_1.split(':')[1].split(';')"
      ],
      "metadata": {
        "id": "DLIvpOsepnxq"
      },
      "execution_count": 15,
      "outputs": []
    },
    {
      "cell_type": "code",
      "source": [
        "mini_games"
      ],
      "metadata": {
        "colab": {
          "base_uri": "https://localhost:8080/"
        },
        "id": "MKNUSYqcpx06",
        "outputId": "7462db97-0fd8-4b16-f3a2-3fc4b42847c3"
      },
      "execution_count": 16,
      "outputs": [
        {
          "output_type": "execute_result",
          "data": {
            "text/plain": [
              "[' 3 blue, 4 red', ' 1 red, 2 green, 6 blue', ' 2 green']"
            ]
          },
          "metadata": {},
          "execution_count": 16
        }
      ]
    },
    {
      "cell_type": "code",
      "source": [
        "eligible_criteria = {\"red\":12,\n",
        "                     \"blue\":14,\n",
        "                     \"green\":13}"
      ],
      "metadata": {
        "id": "Gs2p37i4pzku"
      },
      "execution_count": 17,
      "outputs": []
    },
    {
      "cell_type": "code",
      "source": [
        "for game in mini_games:\n",
        "    color = game.split(\",\")\n",
        "    print(color)\n",
        "    for c in color:\n",
        "        c = c.strip()\n",
        "        number = c.split(\" \")[0]\n",
        "        actual_color = c.split(\" \")[1]\n",
        "        print(actual_color)\n",
        "        print(number)\n",
        "\n",
        "        if int(number) > eligible_criteria[actual_color]:\n",
        "            print(\"Not eligible\")"
      ],
      "metadata": {
        "colab": {
          "base_uri": "https://localhost:8080/"
        },
        "id": "2E-Wv2JUqWxu",
        "outputId": "e3b8a285-64f7-467e-95fc-d4f634b0c490"
      },
      "execution_count": 21,
      "outputs": [
        {
          "output_type": "stream",
          "name": "stdout",
          "text": [
            "[' 3 blue', ' 4 red']\n",
            "blue\n",
            "3\n",
            "red\n",
            "4\n",
            "[' 1 red', ' 2 green', ' 6 blue']\n",
            "red\n",
            "1\n",
            "green\n",
            "2\n",
            "blue\n",
            "6\n",
            "[' 2 green']\n",
            "green\n",
            "2\n"
          ]
        }
      ]
    },
    {
      "cell_type": "code",
      "source": [
        "from typing_extensions import TypeVarTuple\n",
        "def game_is_eligible(game):\n",
        "    eligible = True\n",
        "    mini_games = game.split(\":\")[1].split(\";\")\n",
        "    eligible_criteria = {\"red\":12,\n",
        "                     \"blue\":14,\n",
        "                     \"green\":13}\n",
        "    for mini_game in mini_games:\n",
        "        color = mini_game.split(\",\")\n",
        "        for c in color:\n",
        "            c = c.strip()\n",
        "            number = c.split(\" \")[0]\n",
        "            actual_color = c.split(\" \")[1]\n",
        "            if int(number) > eligible_criteria[actual_color]:\n",
        "                eligible = False\n",
        "    return eligible"
      ],
      "metadata": {
        "id": "HnSdjjSWwI42"
      },
      "execution_count": 23,
      "outputs": []
    },
    {
      "cell_type": "code",
      "source": [
        "game_is_eligible(sample_list[0])"
      ],
      "metadata": {
        "colab": {
          "base_uri": "https://localhost:8080/"
        },
        "id": "Efe-hBa1w2tk",
        "outputId": "86b6f764-aa6d-4ba0-b6ea-78143e58e8e3"
      },
      "execution_count": 32,
      "outputs": [
        {
          "output_type": "execute_result",
          "data": {
            "text/plain": [
              "True"
            ]
          },
          "metadata": {},
          "execution_count": 32
        }
      ]
    },
    {
      "cell_type": "code",
      "source": [
        "sum = 0\n",
        "for index,game in enumerate(day_2_list):\n",
        "    if game_is_eligible(game):\n",
        "        print(index)\n",
        "        actual_index = index + 1\n",
        "        sum += actual_index\n"
      ],
      "metadata": {
        "colab": {
          "base_uri": "https://localhost:8080/"
        },
        "id": "LF1o-6gfxNmG",
        "outputId": "871f9b2c-a4dc-4cb2-c061-ea11caabc065"
      },
      "execution_count": 38,
      "outputs": [
        {
          "output_type": "stream",
          "name": "stdout",
          "text": [
            "0\n",
            "1\n",
            "2\n",
            "8\n",
            "9\n",
            "11\n",
            "12\n",
            "13\n",
            "14\n",
            "16\n",
            "17\n",
            "18\n",
            "24\n",
            "29\n",
            "30\n",
            "32\n",
            "33\n",
            "36\n",
            "37\n",
            "41\n",
            "44\n",
            "47\n",
            "48\n",
            "49\n",
            "52\n",
            "56\n",
            "57\n",
            "59\n",
            "60\n",
            "61\n",
            "62\n",
            "63\n",
            "64\n",
            "66\n",
            "67\n",
            "69\n",
            "70\n",
            "71\n",
            "72\n",
            "73\n",
            "75\n",
            "76\n",
            "77\n",
            "83\n",
            "84\n",
            "86\n",
            "87\n",
            "90\n",
            "92\n",
            "94\n",
            "95\n",
            "99\n"
          ]
        }
      ]
    },
    {
      "cell_type": "code",
      "source": [
        "sum"
      ],
      "metadata": {
        "colab": {
          "base_uri": "https://localhost:8080/"
        },
        "id": "ZQkEyP6UxpL2",
        "outputId": "f5251c31-5357-4bd7-9d0e-3ba99fed0558"
      },
      "execution_count": 39,
      "outputs": [
        {
          "output_type": "execute_result",
          "data": {
            "text/plain": [
              "2683"
            ]
          },
          "metadata": {},
          "execution_count": 39
        }
      ]
    },
    {
      "cell_type": "markdown",
      "source": [
        "# Part 2\n",
        "Game 1: 3 blue, 4 red; 1 red, 2 green, 6 blue; 2 green\n",
        "Game 2: 1 blue, 2 green; 3 green, 4 blue, 1 red; 1 green, 1 blue\n",
        "Game 3: 8 green, 6 blue, 20 red; 5 blue, 4 red, 13 green; 5 green, 1 red\n",
        "Game 4: 1 green, 3 red, 6 blue; 3 green, 6 red; 3 green, 15 blue, 14 red\n",
        "Game 5: 6 red, 1 blue, 3 green; 2 blue, 1 red, 2 green\n",
        "\n",
        "## basically find the max of each colour in each game"
      ],
      "metadata": {
        "id": "1xuCIfuw0H7Z"
      }
    },
    {
      "cell_type": "code",
      "source": [
        "game_1 = sample_list[0]\n",
        "mini_games = game_1.split(\":\")[1].split(\";\")"
      ],
      "metadata": {
        "id": "Tu81Ei0h0KNX"
      },
      "execution_count": 40,
      "outputs": []
    },
    {
      "cell_type": "code",
      "source": [
        "red = 1\n",
        "blue = 1\n",
        "green = 1"
      ],
      "metadata": {
        "id": "nUbQjU7q0_I4"
      },
      "execution_count": 41,
      "outputs": []
    },
    {
      "cell_type": "code",
      "source": [
        "for game in mini_games:\n",
        "    color = game.split(\",\")\n",
        "    for c in color:\n",
        "        c = c.strip()\n",
        "        number = c.split(\" \")[0]\n",
        "        actual_color = c.split(\" \")[1]\n",
        "        if actual_color == \"red\":\n",
        "            if int(number) > red:\n",
        "                red = int(number)\n",
        "        elif actual_color == \"blue\":\n",
        "            if int(number) > blue:\n",
        "                blue = int(number)\n",
        "        elif actual_color == \"green\":\n",
        "            if int(number) > green:\n",
        "                green = int(number)"
      ],
      "metadata": {
        "id": "MtvoigeC1EHT"
      },
      "execution_count": 42,
      "outputs": []
    },
    {
      "cell_type": "code",
      "source": [
        "red,blue,green"
      ],
      "metadata": {
        "colab": {
          "base_uri": "https://localhost:8080/"
        },
        "id": "OV-WUgMQ1l51",
        "outputId": "60905537-1120-465e-986f-ccd0d218c8da"
      },
      "execution_count": 43,
      "outputs": [
        {
          "output_type": "execute_result",
          "data": {
            "text/plain": [
              "(4, 6, 2)"
            ]
          },
          "metadata": {},
          "execution_count": 43
        }
      ]
    },
    {
      "cell_type": "code",
      "source": [
        "red * blue * green"
      ],
      "metadata": {
        "colab": {
          "base_uri": "https://localhost:8080/"
        },
        "id": "I9f-YHTW1nZM",
        "outputId": "d572ecf1-4e98-481e-f2e8-a70e337a31ff"
      },
      "execution_count": 44,
      "outputs": [
        {
          "output_type": "execute_result",
          "data": {
            "text/plain": [
              "48"
            ]
          },
          "metadata": {},
          "execution_count": 44
        }
      ]
    },
    {
      "cell_type": "code",
      "source": [
        "def get_power_colour(game):\n",
        "    mini_games = game.split(\":\")[1].split(\";\")\n",
        "    red = 1\n",
        "    blue = 1\n",
        "    green = 1\n",
        "    for mini_game in mini_games:\n",
        "        color = mini_game.split(\",\")\n",
        "        for c in color:\n",
        "            c = c.strip()\n",
        "            number = c.split(\" \")[0]\n",
        "            actual_color = c.split(\" \")[1]\n",
        "            if actual_color == \"red\":\n",
        "                if int(number) > red:\n",
        "                    red = int(number)\n",
        "            elif actual_color == \"blue\":\n",
        "                if int(number) > blue:\n",
        "                    blue = int(number)\n",
        "            elif actual_color == \"green\":\n",
        "                if int(number) > green:\n",
        "                    green = int(number)\n",
        "\n",
        "    return red * blue * green\n",
        ""
      ],
      "metadata": {
        "id": "_F-n7zt01sxG"
      },
      "execution_count": 45,
      "outputs": []
    },
    {
      "cell_type": "code",
      "source": [
        "sum = 0\n",
        "for game in sample_list:\n",
        "    power_colour = get_power_colour(game)\n",
        "    sum += power_colour\n",
        "sum"
      ],
      "metadata": {
        "colab": {
          "base_uri": "https://localhost:8080/"
        },
        "id": "htzJOyRg2HTf",
        "outputId": "f6c860cc-3015-45a8-fd3b-4ee82ef34d4e"
      },
      "execution_count": 46,
      "outputs": [
        {
          "output_type": "execute_result",
          "data": {
            "text/plain": [
              "2286"
            ]
          },
          "metadata": {},
          "execution_count": 46
        }
      ]
    },
    {
      "cell_type": "code",
      "source": [
        "final_sum = 0\n",
        "for game in day_2_list:\n",
        "    power_colour = get_power_colour(game)\n",
        "    final_sum += power_colour\n",
        "final_sum"
      ],
      "metadata": {
        "colab": {
          "base_uri": "https://localhost:8080/"
        },
        "id": "7JJ8TV4I2Wor",
        "outputId": "3735e748-44ba-4d46-d37d-0be064c4aa67"
      },
      "execution_count": 47,
      "outputs": [
        {
          "output_type": "execute_result",
          "data": {
            "text/plain": [
              "49710"
            ]
          },
          "metadata": {},
          "execution_count": 47
        }
      ]
    },
    {
      "cell_type": "code",
      "source": [],
      "metadata": {
        "id": "rFq9x5vQ2Zaa"
      },
      "execution_count": null,
      "outputs": []
    }
  ]
}