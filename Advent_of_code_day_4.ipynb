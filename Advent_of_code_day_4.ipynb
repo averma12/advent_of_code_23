{
  "nbformat": 4,
  "nbformat_minor": 0,
  "metadata": {
    "colab": {
      "provenance": [],
      "authorship_tag": "ABX9TyP189O1vjCDLgCBdAiWl4Fl",
      "include_colab_link": true
    },
    "kernelspec": {
      "name": "python3",
      "display_name": "Python 3"
    },
    "language_info": {
      "name": "python"
    }
  },
  "cells": [
    {
      "cell_type": "markdown",
      "metadata": {
        "id": "view-in-github",
        "colab_type": "text"
      },
      "source": [
        "<a href=\"https://colab.research.google.com/github/averma12/advent_of_code_23/blob/main/Advent_of_code_day_4.ipynb\" target=\"_parent\"><img src=\"https://colab.research.google.com/assets/colab-badge.svg\" alt=\"Open In Colab\"/></a>"
      ]
    },
    {
      "cell_type": "code",
      "execution_count": 1,
      "metadata": {
        "colab": {
          "base_uri": "https://localhost:8080/"
        },
        "id": "cvBcM4T2abpa",
        "outputId": "6dbc78f1-035d-48af-da50-cd4740883e61"
      },
      "outputs": [
        {
          "output_type": "stream",
          "name": "stdout",
          "text": [
            "Collecting aocd\n",
            "  Downloading aocd-0.1-py2.py3-none-any.whl.metadata (815 bytes)\n",
            "Collecting advent-of-code-data (from aocd)\n",
            "  Downloading advent_of_code_data-2.0.4-py3-none-any.whl.metadata (11 kB)\n",
            "Requirement already satisfied: beautifulsoup4 in /usr/local/lib/python3.10/dist-packages (from advent-of-code-data->aocd) (4.12.3)\n",
            "Collecting pebble (from advent-of-code-data->aocd)\n",
            "  Downloading Pebble-5.1.0-py3-none-any.whl.metadata (3.6 kB)\n",
            "Requirement already satisfied: urllib3 in /usr/local/lib/python3.10/dist-packages (from advent-of-code-data->aocd) (2.2.3)\n",
            "Collecting aocd-example-parser>=2023.2 (from advent-of-code-data->aocd)\n",
            "  Downloading aocd_example_parser-2023.12.20-py3-none-any.whl.metadata (8.9 kB)\n",
            "Requirement already satisfied: soupsieve>1.2 in /usr/local/lib/python3.10/dist-packages (from beautifulsoup4->advent-of-code-data->aocd) (2.6)\n",
            "Downloading aocd-0.1-py2.py3-none-any.whl (1.3 kB)\n",
            "Downloading advent_of_code_data-2.0.4-py3-none-any.whl (38 kB)\n",
            "Downloading aocd_example_parser-2023.12.20-py3-none-any.whl (12 kB)\n",
            "Downloading Pebble-5.1.0-py3-none-any.whl (36 kB)\n",
            "Installing collected packages: pebble, aocd-example-parser, advent-of-code-data, aocd\n",
            "Successfully installed advent-of-code-data-2.0.4 aocd-0.1 aocd-example-parser-2023.12.20 pebble-5.1.0\n"
          ]
        }
      ],
      "source": [
        "! pip install aocd"
      ]
    },
    {
      "cell_type": "code",
      "source": [
        "from google.colab import userdata\n",
        "AOC_SESSION = userdata.get('AOC_SESSION')"
      ],
      "metadata": {
        "id": "YrZQr7ncagsN"
      },
      "execution_count": 2,
      "outputs": []
    },
    {
      "cell_type": "code",
      "source": [
        "import os\n",
        "os.environ[\"AOC_SESSION\"] = AOC_SESSION"
      ],
      "metadata": {
        "id": "jemjSk8yaoBT"
      },
      "execution_count": 3,
      "outputs": []
    },
    {
      "cell_type": "code",
      "source": [
        "from aocd import get_data"
      ],
      "metadata": {
        "id": "4MfbrQMjawnF"
      },
      "execution_count": 4,
      "outputs": []
    },
    {
      "cell_type": "code",
      "source": [
        "inp = get_data(day=4, year=2023)\n",
        "inp[:200]"
      ],
      "metadata": {
        "colab": {
          "base_uri": "https://localhost:8080/",
          "height": 53
        },
        "id": "hys1W4_7arvb",
        "outputId": "51384ad5-6f9f-4743-eddb-8987b41b9bd7"
      },
      "execution_count": 5,
      "outputs": [
        {
          "output_type": "execute_result",
          "data": {
            "text/plain": [
              "'Card   1:  2 15 17 11 64 59 45 41 61 19 |  4 36 62 43 94 41 24 25 13 83 97 86 61 90 67  7 15 58 18 19 38 17 49 52 37\\nCard   2: 41 62 67 93 88 12 78 51 95 49 | 55 63 89 78 45 11 62 50 81  9 32 82 15 36'"
            ],
            "application/vnd.google.colaboratory.intrinsic+json": {
              "type": "string"
            }
          },
          "metadata": {},
          "execution_count": 5
        }
      ]
    },
    {
      "cell_type": "code",
      "source": [
        "sample = \"\"\"Card 1: 41 48 83 86 17 | 83 86  6 31 17  9 48 53\n",
        "Card 2: 13 32 20 16 61 | 61 30 68 82 17 32 24 19\n",
        "Card 3:  1 21 53 59 44 | 69 82 63 72 16 21 14  1\n",
        "Card 4: 41 92 73 84 69 | 59 84 76 51 58  5 54 83\n",
        "Card 5: 87 83 26 28 32 | 88 30 70 12 93 22 82 36\n",
        "Card 6: 31 18 13 56 72 | 74 77 10 23 35 67 36 11\"\"\""
      ],
      "metadata": {
        "id": "LTq0b2qpa85t"
      },
      "execution_count": 6,
      "outputs": []
    },
    {
      "cell_type": "code",
      "source": [
        "cards = sample.splitlines()"
      ],
      "metadata": {
        "id": "0PhH72BDa-jk"
      },
      "execution_count": 7,
      "outputs": []
    },
    {
      "cell_type": "code",
      "source": [
        "main_cards = inp.splitlines()"
      ],
      "metadata": {
        "id": "PucmApZUeOG3"
      },
      "execution_count": 28,
      "outputs": []
    },
    {
      "cell_type": "code",
      "source": [
        "card_numbers = cards[0].split(\":\")"
      ],
      "metadata": {
        "id": "X9dvqJPcbCTr"
      },
      "execution_count": 8,
      "outputs": []
    },
    {
      "cell_type": "code",
      "source": [
        "card_numbers"
      ],
      "metadata": {
        "colab": {
          "base_uri": "https://localhost:8080/"
        },
        "id": "-zMPwuS1bR3e",
        "outputId": "1cd018b7-8eb0-46cd-d5b1-b5490bc507ab"
      },
      "execution_count": 10,
      "outputs": [
        {
          "output_type": "execute_result",
          "data": {
            "text/plain": [
              "['Card 1', ' 41 48 83 86 17 | 83 86  6 31 17  9 48 53']"
            ]
          },
          "metadata": {},
          "execution_count": 10
        }
      ]
    },
    {
      "cell_type": "code",
      "source": [
        "card_lists = card_numbers[1].split(\"|\")"
      ],
      "metadata": {
        "id": "OHY8-bttbK5J"
      },
      "execution_count": 11,
      "outputs": []
    },
    {
      "cell_type": "code",
      "source": [
        "card_lists"
      ],
      "metadata": {
        "colab": {
          "base_uri": "https://localhost:8080/"
        },
        "id": "CFqiM4zZbOxB",
        "outputId": "7211bd37-2e33-4488-d6d5-4cee45d608fd"
      },
      "execution_count": 12,
      "outputs": [
        {
          "output_type": "execute_result",
          "data": {
            "text/plain": [
              "[' 41 48 83 86 17 ', ' 83 86  6 31 17  9 48 53']"
            ]
          },
          "metadata": {},
          "execution_count": 12
        }
      ]
    },
    {
      "cell_type": "code",
      "source": [
        "def create_2_lists(line):\n",
        "    # Split off the \"Card 1:\" part by splitting on the first colon.\n",
        "    # The underscore (_) is used as a throwaway variable for what we don't need.\n",
        "    _, data = line.split(\":\", 1)\n",
        "\n",
        "    # Split on '|' to separate the two lists.\n",
        "    left_part, right_part = data.split(\"|\", 1)\n",
        "\n",
        "    # Strip leading/trailing spaces and then split on whitespace to get the final lists.\n",
        "    list1 = left_part.strip().split()\n",
        "    list2 = right_part.strip().split()\n",
        "\n",
        "    return list1, list2\n"
      ],
      "metadata": {
        "id": "7EdvybW5baXh"
      },
      "execution_count": 13,
      "outputs": []
    },
    {
      "cell_type": "code",
      "source": [
        "list1,list2 = create_2_lists(cards[0])"
      ],
      "metadata": {
        "id": "vYYmf7XncaOx"
      },
      "execution_count": 14,
      "outputs": []
    },
    {
      "cell_type": "code",
      "source": [
        "list1,list2"
      ],
      "metadata": {
        "colab": {
          "base_uri": "https://localhost:8080/"
        },
        "id": "xeOAX43TcdO-",
        "outputId": "0f8f74d3-7dd3-4e93-d2f7-e259fd035d21"
      },
      "execution_count": 15,
      "outputs": [
        {
          "output_type": "execute_result",
          "data": {
            "text/plain": [
              "(['41', '48', '83', '86', '17'],\n",
              " ['83', '86', '6', '31', '17', '9', '48', '53'])"
            ]
          },
          "metadata": {},
          "execution_count": 15
        }
      ]
    },
    {
      "cell_type": "code",
      "source": [
        "def intersection(a, b):\n",
        "    \"\"\"\n",
        "    Return the intersection of two lists.\n",
        "\n",
        "    We first convert one list (b) into a set for O(1) lookups,\n",
        "    and then we filter elements from a that are present in b.\n",
        "    \"\"\"\n",
        "    set_b = set(b)\n",
        "    return [x for x in a if x in set_b]\n"
      ],
      "metadata": {
        "id": "lTeAE6PicfPf"
      },
      "execution_count": 16,
      "outputs": []
    },
    {
      "cell_type": "code",
      "source": [
        "intersection(list1,list2)"
      ],
      "metadata": {
        "colab": {
          "base_uri": "https://localhost:8080/"
        },
        "id": "1CBMGI-Ocr86",
        "outputId": "f8e1e739-7bea-472b-fc30-6d08e576a112"
      },
      "execution_count": 17,
      "outputs": [
        {
          "output_type": "execute_result",
          "data": {
            "text/plain": [
              "['48', '83', '86', '17']"
            ]
          },
          "metadata": {},
          "execution_count": 17
        }
      ]
    },
    {
      "cell_type": "code",
      "source": [
        "score = 0\n",
        "for index,line in enumerate(cards):\n",
        "    list1,list2 = create_2_lists(line)\n",
        "    intersection_len = len(intersection(list1,list2))\n",
        "    print(index+1,intersection_len)\n",
        "    score += 2**(intersection_len-1) if intersection_len > 0 else 0\n",
        "    print(\"score\",score)"
      ],
      "metadata": {
        "colab": {
          "base_uri": "https://localhost:8080/"
        },
        "id": "kYOnN8n5cuIU",
        "outputId": "cf34841d-1ef8-458c-9f6a-ff23a37e4894"
      },
      "execution_count": 26,
      "outputs": [
        {
          "output_type": "stream",
          "name": "stdout",
          "text": [
            "1 4\n",
            "score 8\n",
            "2 2\n",
            "score 10\n",
            "3 2\n",
            "score 12\n",
            "4 1\n",
            "score 13\n",
            "5 0\n",
            "score 13\n",
            "6 0\n",
            "score 13\n"
          ]
        }
      ]
    },
    {
      "cell_type": "code",
      "source": [
        "score"
      ],
      "metadata": {
        "colab": {
          "base_uri": "https://localhost:8080/"
        },
        "id": "dLrGfZ1ddHLG",
        "outputId": "246f3479-8d88-45df-9954-19d4ea30699a"
      },
      "execution_count": 27,
      "outputs": [
        {
          "output_type": "execute_result",
          "data": {
            "text/plain": [
              "13"
            ]
          },
          "metadata": {},
          "execution_count": 27
        }
      ]
    },
    {
      "cell_type": "code",
      "source": [
        "score = 0\n",
        "for index,line in enumerate(main_cards):\n",
        "    list1,list2 = create_2_lists(line)\n",
        "    intersection_len = len(intersection(list1,list2))\n",
        "    print(index+1,intersection_len)\n",
        "    score += 2**(intersection_len-1) if intersection_len > 0 else 0\n",
        "    print(\"score\",score)"
      ],
      "metadata": {
        "colab": {
          "base_uri": "https://localhost:8080/"
        },
        "id": "KQ53LV8EdHvG",
        "outputId": "780f5d9f-4259-4c60-b70f-c85ebff6956e"
      },
      "execution_count": 29,
      "outputs": [
        {
          "output_type": "stream",
          "name": "stdout",
          "text": [
            "1 5\n",
            "score 16\n",
            "2 3\n",
            "score 20\n",
            "3 6\n",
            "score 52\n",
            "4 10\n",
            "score 564\n",
            "5 3\n",
            "score 568\n",
            "6 4\n",
            "score 576\n",
            "7 6\n",
            "score 608\n",
            "8 2\n",
            "score 610\n",
            "9 1\n",
            "score 611\n",
            "10 5\n",
            "score 627\n",
            "11 1\n",
            "score 628\n",
            "12 4\n",
            "score 636\n",
            "13 2\n",
            "score 638\n",
            "14 0\n",
            "score 638\n",
            "15 1\n",
            "score 639\n",
            "16 0\n",
            "score 639\n",
            "17 1\n",
            "score 640\n",
            "18 0\n",
            "score 640\n",
            "19 5\n",
            "score 656\n",
            "20 10\n",
            "score 1168\n",
            "21 10\n",
            "score 1680\n",
            "22 10\n",
            "score 2192\n",
            "23 5\n",
            "score 2208\n",
            "24 5\n",
            "score 2224\n",
            "25 10\n",
            "score 2736\n",
            "26 10\n",
            "score 3248\n",
            "27 10\n",
            "score 3760\n",
            "28 8\n",
            "score 3888\n",
            "29 6\n",
            "score 3920\n",
            "30 8\n",
            "score 4048\n",
            "31 5\n",
            "score 4064\n",
            "32 4\n",
            "score 4072\n",
            "33 8\n",
            "score 4200\n",
            "34 3\n",
            "score 4204\n",
            "35 5\n",
            "score 4220\n",
            "36 3\n",
            "score 4224\n",
            "37 3\n",
            "score 4228\n",
            "38 1\n",
            "score 4229\n",
            "39 1\n",
            "score 4230\n",
            "40 1\n",
            "score 4231\n",
            "41 0\n",
            "score 4231\n",
            "42 10\n",
            "score 4743\n",
            "43 5\n",
            "score 4759\n",
            "44 3\n",
            "score 4763\n",
            "45 0\n",
            "score 4763\n",
            "46 10\n",
            "score 5275\n",
            "47 3\n",
            "score 5279\n",
            "48 9\n",
            "score 5535\n",
            "49 7\n",
            "score 5599\n",
            "50 7\n",
            "score 5663\n",
            "51 7\n",
            "score 5727\n",
            "52 1\n",
            "score 5728\n",
            "53 1\n",
            "score 5729\n",
            "54 9\n",
            "score 5985\n",
            "55 3\n",
            "score 5989\n",
            "56 4\n",
            "score 5997\n",
            "57 5\n",
            "score 6013\n",
            "58 4\n",
            "score 6021\n",
            "59 3\n",
            "score 6025\n",
            "60 2\n",
            "score 6027\n",
            "61 2\n",
            "score 6029\n",
            "62 1\n",
            "score 6030\n",
            "63 0\n",
            "score 6030\n",
            "64 5\n",
            "score 6046\n",
            "65 4\n",
            "score 6054\n",
            "66 10\n",
            "score 6566\n",
            "67 2\n",
            "score 6568\n",
            "68 9\n",
            "score 6824\n",
            "69 4\n",
            "score 6832\n",
            "70 2\n",
            "score 6834\n",
            "71 0\n",
            "score 6834\n",
            "72 5\n",
            "score 6850\n",
            "73 5\n",
            "score 6866\n",
            "74 3\n",
            "score 6870\n",
            "75 4\n",
            "score 6878\n",
            "76 3\n",
            "score 6882\n",
            "77 2\n",
            "score 6884\n",
            "78 1\n",
            "score 6885\n",
            "79 1\n",
            "score 6886\n",
            "80 0\n",
            "score 6886\n",
            "81 8\n",
            "score 7014\n",
            "82 9\n",
            "score 7270\n",
            "83 10\n",
            "score 7782\n",
            "84 6\n",
            "score 7814\n",
            "85 6\n",
            "score 7846\n",
            "86 9\n",
            "score 8102\n",
            "87 4\n",
            "score 8110\n",
            "88 8\n",
            "score 8238\n",
            "89 4\n",
            "score 8246\n",
            "90 5\n",
            "score 8262\n",
            "91 3\n",
            "score 8266\n",
            "92 1\n",
            "score 8267\n",
            "93 3\n",
            "score 8271\n",
            "94 4\n",
            "score 8279\n",
            "95 2\n",
            "score 8281\n",
            "96 0\n",
            "score 8281\n",
            "97 0\n",
            "score 8281\n",
            "98 1\n",
            "score 8282\n",
            "99 1\n",
            "score 8283\n",
            "100 0\n",
            "score 8283\n",
            "101 10\n",
            "score 8795\n",
            "102 5\n",
            "score 8811\n",
            "103 4\n",
            "score 8819\n",
            "104 3\n",
            "score 8823\n",
            "105 10\n",
            "score 9335\n",
            "106 3\n",
            "score 9339\n",
            "107 10\n",
            "score 9851\n",
            "108 3\n",
            "score 9855\n",
            "109 2\n",
            "score 9857\n",
            "110 3\n",
            "score 9861\n",
            "111 6\n",
            "score 9893\n",
            "112 0\n",
            "score 9893\n",
            "113 3\n",
            "score 9897\n",
            "114 1\n",
            "score 9898\n",
            "115 1\n",
            "score 9899\n",
            "116 1\n",
            "score 9900\n",
            "117 0\n",
            "score 9900\n",
            "118 1\n",
            "score 9901\n",
            "119 0\n",
            "score 9901\n",
            "120 8\n",
            "score 10029\n",
            "121 0\n",
            "score 10029\n",
            "122 6\n",
            "score 10061\n",
            "123 5\n",
            "score 10077\n",
            "124 5\n",
            "score 10093\n",
            "125 0\n",
            "score 10093\n",
            "126 4\n",
            "score 10101\n",
            "127 7\n",
            "score 10165\n",
            "128 1\n",
            "score 10166\n",
            "129 2\n",
            "score 10168\n",
            "130 3\n",
            "score 10172\n",
            "131 3\n",
            "score 10176\n",
            "132 0\n",
            "score 10176\n",
            "133 1\n",
            "score 10177\n",
            "134 0\n",
            "score 10177\n",
            "135 6\n",
            "score 10209\n",
            "136 9\n",
            "score 10465\n",
            "137 7\n",
            "score 10529\n",
            "138 2\n",
            "score 10531\n",
            "139 5\n",
            "score 10547\n",
            "140 8\n",
            "score 10675\n",
            "141 3\n",
            "score 10679\n",
            "142 0\n",
            "score 10679\n",
            "143 6\n",
            "score 10711\n",
            "144 2\n",
            "score 10713\n",
            "145 2\n",
            "score 10715\n",
            "146 2\n",
            "score 10717\n",
            "147 0\n",
            "score 10717\n",
            "148 0\n",
            "score 10717\n",
            "149 0\n",
            "score 10717\n",
            "150 5\n",
            "score 10733\n",
            "151 9\n",
            "score 10989\n",
            "152 10\n",
            "score 11501\n",
            "153 10\n",
            "score 12013\n",
            "154 6\n",
            "score 12045\n",
            "155 9\n",
            "score 12301\n",
            "156 6\n",
            "score 12333\n",
            "157 0\n",
            "score 12333\n",
            "158 2\n",
            "score 12335\n",
            "159 5\n",
            "score 12351\n",
            "160 0\n",
            "score 12351\n",
            "161 3\n",
            "score 12355\n",
            "162 0\n",
            "score 12355\n",
            "163 0\n",
            "score 12355\n",
            "164 1\n",
            "score 12356\n",
            "165 0\n",
            "score 12356\n",
            "166 0\n",
            "score 12356\n",
            "167 2\n",
            "score 12358\n",
            "168 10\n",
            "score 12870\n",
            "169 10\n",
            "score 13382\n",
            "170 1\n",
            "score 13383\n",
            "171 10\n",
            "score 13895\n",
            "172 7\n",
            "score 13959\n",
            "173 10\n",
            "score 14471\n",
            "174 4\n",
            "score 14479\n",
            "175 3\n",
            "score 14483\n",
            "176 1\n",
            "score 14484\n",
            "177 2\n",
            "score 14486\n",
            "178 6\n",
            "score 14518\n",
            "179 10\n",
            "score 15030\n",
            "180 5\n",
            "score 15046\n",
            "181 0\n",
            "score 15046\n",
            "182 8\n",
            "score 15174\n",
            "183 1\n",
            "score 15175\n",
            "184 5\n",
            "score 15191\n",
            "185 2\n",
            "score 15193\n",
            "186 4\n",
            "score 15201\n",
            "187 2\n",
            "score 15203\n",
            "188 2\n",
            "score 15205\n",
            "189 0\n",
            "score 15205\n",
            "190 0\n",
            "score 15205\n"
          ]
        }
      ]
    },
    {
      "cell_type": "code",
      "source": [
        "score"
      ],
      "metadata": {
        "colab": {
          "base_uri": "https://localhost:8080/"
        },
        "id": "RrVrSySUeWsq",
        "outputId": "7d0e6aad-e55e-4071-9889-e229d883180b"
      },
      "execution_count": 30,
      "outputs": [
        {
          "output_type": "execute_result",
          "data": {
            "text/plain": [
              "15205"
            ]
          },
          "metadata": {},
          "execution_count": 30
        }
      ]
    },
    {
      "cell_type": "markdown",
      "source": [
        "# Part 2"
      ],
      "metadata": {
        "id": "rsV-Tv1dfZU9"
      }
    },
    {
      "cell_type": "code",
      "source": [],
      "metadata": {
        "id": "NLXEmt1-eXSP"
      },
      "execution_count": null,
      "outputs": []
    }
  ]
}