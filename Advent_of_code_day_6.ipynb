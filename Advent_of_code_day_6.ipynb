{
  "nbformat": 4,
  "nbformat_minor": 0,
  "metadata": {
    "colab": {
      "provenance": [],
      "authorship_tag": "ABX9TyMq+Ih+j8dnOzG+e2SIGbA9",
      "include_colab_link": true
    },
    "kernelspec": {
      "name": "python3",
      "display_name": "Python 3"
    },
    "language_info": {
      "name": "python"
    }
  },
  "cells": [
    {
      "cell_type": "markdown",
      "metadata": {
        "id": "view-in-github",
        "colab_type": "text"
      },
      "source": [
        "<a href=\"https://colab.research.google.com/github/averma12/advent_of_code_23/blob/main/Advent_of_code_day_6.ipynb\" target=\"_parent\"><img src=\"https://colab.research.google.com/assets/colab-badge.svg\" alt=\"Open In Colab\"/></a>"
      ]
    },
    {
      "cell_type": "code",
      "execution_count": 1,
      "metadata": {
        "colab": {
          "base_uri": "https://localhost:8080/"
        },
        "id": "tFocTvqvm-37",
        "outputId": "da45a89d-d058-4f5d-8206-d7ab25d41288"
      },
      "outputs": [
        {
          "output_type": "stream",
          "name": "stdout",
          "text": [
            "Collecting aocd\n",
            "  Downloading aocd-0.1-py2.py3-none-any.whl.metadata (815 bytes)\n",
            "Collecting advent-of-code-data (from aocd)\n",
            "  Downloading advent_of_code_data-2.0.4-py3-none-any.whl.metadata (11 kB)\n",
            "Requirement already satisfied: beautifulsoup4 in /usr/local/lib/python3.10/dist-packages (from advent-of-code-data->aocd) (4.12.3)\n",
            "Collecting pebble (from advent-of-code-data->aocd)\n",
            "  Downloading Pebble-5.1.0-py3-none-any.whl.metadata (3.6 kB)\n",
            "Requirement already satisfied: urllib3 in /usr/local/lib/python3.10/dist-packages (from advent-of-code-data->aocd) (2.2.3)\n",
            "Collecting aocd-example-parser>=2023.2 (from advent-of-code-data->aocd)\n",
            "  Downloading aocd_example_parser-2024.12.24-py3-none-any.whl.metadata (8.9 kB)\n",
            "Requirement already satisfied: soupsieve>1.2 in /usr/local/lib/python3.10/dist-packages (from beautifulsoup4->advent-of-code-data->aocd) (2.6)\n",
            "Downloading aocd-0.1-py2.py3-none-any.whl (1.3 kB)\n",
            "Downloading advent_of_code_data-2.0.4-py3-none-any.whl (38 kB)\n",
            "Downloading aocd_example_parser-2024.12.24-py3-none-any.whl (13 kB)\n",
            "Downloading Pebble-5.1.0-py3-none-any.whl (36 kB)\n",
            "Installing collected packages: pebble, aocd-example-parser, advent-of-code-data, aocd\n",
            "Successfully installed advent-of-code-data-2.0.4 aocd-0.1 aocd-example-parser-2024.12.24 pebble-5.1.0\n"
          ]
        }
      ],
      "source": [
        "! pip install aocd"
      ]
    },
    {
      "cell_type": "code",
      "source": [
        "\n",
        "from google.colab import userdata\n",
        "AOC_SESSION = userdata.get('AOC_SESSION')"
      ],
      "metadata": {
        "id": "JnO1ZSldnD28"
      },
      "execution_count": 2,
      "outputs": []
    },
    {
      "cell_type": "code",
      "source": [
        "import os\n",
        "os.environ[\"AOC_SESSION\"] = AOC_SESSION"
      ],
      "metadata": {
        "id": "nOWaOHkTnI85"
      },
      "execution_count": 3,
      "outputs": []
    },
    {
      "cell_type": "code",
      "source": [
        "from aocd import get_data"
      ],
      "metadata": {
        "id": "_kH4IlqgnMJ3"
      },
      "execution_count": 4,
      "outputs": []
    },
    {
      "cell_type": "code",
      "source": [
        "inp = get_data(day=6, year=2023)\n",
        "inp[:50]"
      ],
      "metadata": {
        "colab": {
          "base_uri": "https://localhost:8080/",
          "height": 35
        },
        "id": "bWK5cB5PnO_6",
        "outputId": "d6b2ed8e-feb3-4919-bd02-a0bd0bfee407"
      },
      "execution_count": 5,
      "outputs": [
        {
          "output_type": "execute_result",
          "data": {
            "text/plain": [
              "'Time:        42     68     69     85\\nDistance:   2'"
            ],
            "application/vnd.google.colaboratory.intrinsic+json": {
              "type": "string"
            }
          },
          "metadata": {},
          "execution_count": 5
        }
      ]
    },
    {
      "cell_type": "code",
      "source": [
        "sample = \"\"\"Time:      7  15   30\n",
        "Distance:  9  40  200\"\"\""
      ],
      "metadata": {
        "id": "GVMbPjAmnSJ9"
      },
      "execution_count": 6,
      "outputs": []
    },
    {
      "cell_type": "code",
      "source": [
        "# Let's split into lines first\n",
        "lines = sample.split('\\n')\n",
        "\n",
        "# Let's examine one line:\n",
        "time_line = lines[0]\n",
        "print(\"First line:\", time_line)\n",
        "distance_line = lines[1]\n",
        "print(\"Second line:\", distance_line)\n",
        "\n",
        "# Now let's try to extract numbers from time line\n",
        "# We can split the label from numbers using ':'\n",
        "time_parts = time_line.split(':')\n",
        "print(\"Time parts:\", time_parts)"
      ],
      "metadata": {
        "colab": {
          "base_uri": "https://localhost:8080/"
        },
        "id": "6B5qz5ednW1Y",
        "outputId": "42de5df5-a26c-4b3a-fb3e-c90dad2800e1"
      },
      "execution_count": 8,
      "outputs": [
        {
          "output_type": "stream",
          "name": "stdout",
          "text": [
            "First line: Time:      7  15   30\n",
            "Second line: Distance:  9  40  200\n",
            "Time parts: ['Time', '      7  15   30']\n"
          ]
        }
      ]
    },
    {
      "cell_type": "code",
      "source": [
        "distance_parts = distance_line.split(':')\n",
        "print(\"Distance parts:\", distance_parts)"
      ],
      "metadata": {
        "colab": {
          "base_uri": "https://localhost:8080/"
        },
        "id": "amDDCpZJnaKk",
        "outputId": "863a364c-727c-44e7-988a-dfa2488a05da"
      },
      "execution_count": 9,
      "outputs": [
        {
          "output_type": "stream",
          "name": "stdout",
          "text": [
            "Distance parts: ['Distance', '  9  40  200']\n"
          ]
        }
      ]
    },
    {
      "cell_type": "code",
      "source": [
        "# Get everything after \"Time:\" and \"Distance:\"\n",
        "time_numbers = time_line.split(':')[1]\n",
        "distance_numbers = distance_line.split(':')[1]\n",
        "\n",
        "# Split by whitespace and convert to integers\n",
        "# strip() will remove leading/trailing whitespace\n",
        "# split() with no arguments splits on any whitespace\n",
        "times = [int(x) for x in time_numbers.strip().split()]\n",
        "distances = [int(x) for x in distance_numbers.strip().split()]\n",
        "\n",
        "print(\"Times:\", times)\n",
        "print(\"Distances:\", distances)"
      ],
      "metadata": {
        "colab": {
          "base_uri": "https://localhost:8080/"
        },
        "id": "aaGskVkDnhEg",
        "outputId": "aa6fba8b-93a9-4345-a202-c79475128546"
      },
      "execution_count": 10,
      "outputs": [
        {
          "output_type": "stream",
          "name": "stdout",
          "text": [
            "Times: [7, 15, 30]\n",
            "Distances: [9, 40, 200]\n"
          ]
        }
      ]
    },
    {
      "cell_type": "code",
      "source": [
        "def count_winning_ways(time, record_distance):\n",
        "    winning_holds = 0\n",
        "    for hold in range(time + 1):\n",
        "        speed = hold\n",
        "        remaining_time = time - hold\n",
        "        distance = speed * remaining_time\n",
        "        if distance > record_distance:\n",
        "            winning_holds += 1\n",
        "    return winning_holds\n",
        "\n",
        "# Test with first race\n",
        "test_result = count_winning_ways(7, 9)\n",
        "print(f\"First race winning ways: {test_result}\")  # Should get 4"
      ],
      "metadata": {
        "colab": {
          "base_uri": "https://localhost:8080/"
        },
        "id": "q02eLfXdnrm7",
        "outputId": "62703a2c-da4d-462c-b628-603f866514b6"
      },
      "execution_count": 11,
      "outputs": [
        {
          "output_type": "stream",
          "name": "stdout",
          "text": [
            "First race winning ways: 4\n"
          ]
        }
      ]
    },
    {
      "cell_type": "code",
      "source": [
        "total_ways = 1  # Start with 1 since we'll multiply\n",
        "for time, record_distance in zip(times, distances):\n",
        "    winning_ways = count_winning_ways(time, record_distance)\n",
        "    print(f\"Race with time {time}ms and record {record_distance}mm: {winning_ways} ways to win\")\n",
        "    total_ways *= winning_ways\n",
        "\n",
        "print(f\"Final result (all multiplied): {total_ways}\")"
      ],
      "metadata": {
        "colab": {
          "base_uri": "https://localhost:8080/"
        },
        "id": "K29VvEb-ny0Y",
        "outputId": "aab9a07b-8f7b-4933-e277-13fc56d591ed"
      },
      "execution_count": 12,
      "outputs": [
        {
          "output_type": "stream",
          "name": "stdout",
          "text": [
            "Race with time 7ms and record 9mm: 4 ways to win\n",
            "Race with time 15ms and record 40mm: 8 ways to win\n",
            "Race with time 30ms and record 200mm: 9 ways to win\n",
            "Final result (all multiplied): 288\n"
          ]
        }
      ]
    },
    {
      "cell_type": "markdown",
      "source": [
        "# Part 1\n"
      ],
      "metadata": {
        "id": "-RShtaCCoDTw"
      }
    },
    {
      "cell_type": "code",
      "source": [
        "# Let's split into lines first\n",
        "lines = inp.split('\\n')\n",
        "\n",
        "# Let's examine one line:\n",
        "time_line = lines[0]\n",
        "print(\"First line:\", time_line)\n",
        "distance_line = lines[1]\n",
        "print(\"Second line:\", distance_line)\n",
        "\n",
        "# Now let's try to extract numbers from time line\n",
        "# We can split the label from numbers using ':'\n",
        "time_parts = time_line.split(':')\n",
        "print(\"Time parts:\", time_parts)"
      ],
      "metadata": {
        "colab": {
          "base_uri": "https://localhost:8080/"
        },
        "id": "Z2_PkOBqoARd",
        "outputId": "2993cdaf-6edf-4ffc-bd8e-709655d6a689"
      },
      "execution_count": 13,
      "outputs": [
        {
          "output_type": "stream",
          "name": "stdout",
          "text": [
            "First line: Time:        42     68     69     85\n",
            "Second line: Distance:   284   1005   1122   1341\n",
            "Time parts: ['Time', '        42     68     69     85']\n"
          ]
        }
      ]
    },
    {
      "cell_type": "code",
      "source": [
        "distance_parts = distance_line.split(':')\n",
        "print(\"Distance parts:\", distance_parts)"
      ],
      "metadata": {
        "colab": {
          "base_uri": "https://localhost:8080/"
        },
        "id": "lVRNDzJqoMD-",
        "outputId": "37ca6f4c-9386-4ca9-bf19-38bd6c99e1ab"
      },
      "execution_count": 14,
      "outputs": [
        {
          "output_type": "stream",
          "name": "stdout",
          "text": [
            "Distance parts: ['Distance', '   284   1005   1122   1341']\n"
          ]
        }
      ]
    },
    {
      "cell_type": "code",
      "source": [
        "# Get everything after \"Time:\" and \"Distance:\"\n",
        "time_numbers = time_line.split(':')[1]\n",
        "distance_numbers = distance_line.split(':')[1]\n",
        "\n",
        "# Split by whitespace and convert to integers\n",
        "# strip() will remove leading/trailing whitespace\n",
        "# split() with no arguments splits on any whitespace\n",
        "times = [int(x) for x in time_numbers.strip().split()]\n",
        "distances = [int(x) for x in distance_numbers.strip().split()]\n",
        "\n",
        "print(\"Times:\", times)\n",
        "print(\"Distances:\", distances)"
      ],
      "metadata": {
        "colab": {
          "base_uri": "https://localhost:8080/"
        },
        "id": "DMCfG92_oMZI",
        "outputId": "c38c0445-7f4b-40e6-bcdc-dcc255dccbbd"
      },
      "execution_count": 15,
      "outputs": [
        {
          "output_type": "stream",
          "name": "stdout",
          "text": [
            "Times: [42, 68, 69, 85]\n",
            "Distances: [284, 1005, 1122, 1341]\n"
          ]
        }
      ]
    },
    {
      "cell_type": "code",
      "source": [
        "total_ways = 1  # Start with 1 since we'll multiply\n",
        "for time, record_distance in zip(times, distances):\n",
        "    winning_ways = count_winning_ways(time, record_distance)\n",
        "    print(f\"Race with time {time}ms and record {record_distance}mm: {winning_ways} ways to win\")\n",
        "    total_ways *= winning_ways\n",
        "\n",
        "print(f\"Final result (all multiplied): {total_ways}\")"
      ],
      "metadata": {
        "colab": {
          "base_uri": "https://localhost:8080/"
        },
        "id": "Iyxi0zA7oPpU",
        "outputId": "aa895f7b-9a67-4422-a72d-f69489920d89"
      },
      "execution_count": 16,
      "outputs": [
        {
          "output_type": "stream",
          "name": "stdout",
          "text": [
            "Race with time 42ms and record 284mm: 25 ways to win\n",
            "Race with time 68ms and record 1005mm: 25 ways to win\n",
            "Race with time 69ms and record 1122mm: 16 ways to win\n",
            "Race with time 85ms and record 1341mm: 44 ways to win\n",
            "Final result (all multiplied): 440000\n"
          ]
        }
      ]
    },
    {
      "cell_type": "code",
      "source": [],
      "metadata": {
        "id": "8plRCJUAoS7s"
      },
      "execution_count": null,
      "outputs": []
    },
    {
      "cell_type": "markdown",
      "source": [
        "# Lets try this quadratically. This is experimental with the help of claude. the solution was easily obtained using loops above"
      ],
      "metadata": {
        "id": "TxEPvAAhopuU"
      }
    },
    {
      "cell_type": "code",
      "source": [
        "import math\n",
        "\n",
        "def find_winning_ways_quadratic(time, record_distance):\n",
        "    # Solve: -h² + Th - D > 0\n",
        "    # Using quadratic formula: (-b ± √(b² - 4ac))/(2a)\n",
        "    # Where a=-1, b=T, c=-D\n",
        "\n",
        "    a = -1\n",
        "    b = time\n",
        "    c = -record_distance\n",
        "\n",
        "    # Calculate discriminant\n",
        "    discriminant = b*b - 4*a*c\n",
        "\n",
        "    # Find roots\n",
        "    root1 = (-b + math.sqrt(discriminant))/(2*a)\n",
        "    root2 = (-b - math.sqrt(discriminant))/(2*a)\n",
        "\n",
        "    # We need to find whole numbers between these roots\n",
        "    start = math.ceil(min(root1, root2))\n",
        "    end = math.floor(max(root1, root2))\n",
        "\n",
        "    return end - start + 1\n",
        "\n",
        "# Let's test with our original data\n",
        "times = [7, 15, 30]\n",
        "distances = [9, 40, 200]\n",
        "\n",
        "total = 1\n",
        "for time, distance in zip(times, distances):\n",
        "    ways = find_winning_ways_quadratic(time, distance)\n",
        "    print(f\"Race {time}ms: {ways} ways to win\")\n",
        "    total *= ways\n",
        "\n",
        "print(f\"Total ways multiplied: {total}\")"
      ],
      "metadata": {
        "colab": {
          "base_uri": "https://localhost:8080/"
        },
        "id": "ntKB80VdosPt",
        "outputId": "431a3797-844e-4cbc-dfa1-3786e0203781"
      },
      "execution_count": 17,
      "outputs": [
        {
          "output_type": "stream",
          "name": "stdout",
          "text": [
            "Race 7ms: 4 ways to win\n",
            "Race 15ms: 8 ways to win\n",
            "Race 30ms: 11 ways to win\n",
            "Total ways multiplied: 352\n"
          ]
        }
      ]
    },
    {
      "cell_type": "code",
      "source": [
        "def debug_quadratic(time, distance):\n",
        "    a = -1\n",
        "    b = time\n",
        "    c = -distance\n",
        "\n",
        "    discriminant = b*b - 4*a*c\n",
        "    root1 = (-b + math.sqrt(discriminant))/(2*a)\n",
        "    root2 = (-b - math.sqrt(discriminant))/(2*a)\n",
        "\n",
        "    print(f\"Time: {time}, Distance: {distance}\")\n",
        "    print(f\"Discriminant: {discriminant}\")\n",
        "    print(f\"Roots: {root1:.2f}, {root2:.2f}\")\n",
        "    print(f\"After ceil/floor: {math.ceil(min(root1, root2))} to {math.floor(max(root1, root2))}\")\n",
        "\n",
        "    # Let's also verify with our brute force solution\n",
        "    wins = 0\n",
        "    for hold in range(time + 1):\n",
        "        distance_achieved = hold * (time - hold)\n",
        "        if distance_achieved > distance:\n",
        "            wins += 1\n",
        "    print(f\"Brute force shows {wins} winning ways\")\n",
        "    print(\"---\")\n",
        "\n",
        "# Test each race\n",
        "for time, distance in zip(times, distances):\n",
        "    debug_quadratic(time, distance)"
      ],
      "metadata": {
        "colab": {
          "base_uri": "https://localhost:8080/"
        },
        "id": "oqosQmGqpBmH",
        "outputId": "e2d4daf6-d09a-46f5-9c01-372572e77269"
      },
      "execution_count": 18,
      "outputs": [
        {
          "output_type": "stream",
          "name": "stdout",
          "text": [
            "Time: 7, Distance: 9\n",
            "Discriminant: 13\n",
            "Roots: 1.70, 5.30\n",
            "After ceil/floor: 2 to 5\n",
            "Brute force shows 4 winning ways\n",
            "---\n",
            "Time: 15, Distance: 40\n",
            "Discriminant: 65\n",
            "Roots: 3.47, 11.53\n",
            "After ceil/floor: 4 to 11\n",
            "Brute force shows 8 winning ways\n",
            "---\n",
            "Time: 30, Distance: 200\n",
            "Discriminant: 100\n",
            "Roots: 10.00, 20.00\n",
            "After ceil/floor: 10 to 20\n",
            "Brute force shows 9 winning ways\n",
            "---\n"
          ]
        }
      ]
    },
    {
      "cell_type": "code",
      "source": [
        "def debug_third_race():\n",
        "    time = 30\n",
        "    distance = 200\n",
        "\n",
        "    print(\"Brute Force Check:\")\n",
        "    for hold in range(time + 1):\n",
        "        distance_achieved = hold * (time - hold)\n",
        "        if distance_achieved > distance:\n",
        "            print(f\"Hold {hold}ms: Distance = {distance_achieved}mm (Win)\")\n",
        "\n",
        "    print(\"\\nQuadratic Solution:\")\n",
        "    a = -1\n",
        "    b = time\n",
        "    c = -distance\n",
        "    discriminant = b*b - 4*a*c\n",
        "    root1 = (-b + math.sqrt(discriminant))/(2*a)\n",
        "    root2 = (-b - math.sqrt(discriminant))/(2*a)\n",
        "    print(f\"Roots: {root1:.2f}, {root2:.2f}\")\n",
        "    start = math.ceil(min(root1, root2))\n",
        "    end = math.floor(max(root1, root2))\n",
        "    print(f\"Valid hold times: {start} to {end}\")\n",
        "\n",
        "debug_third_race()"
      ],
      "metadata": {
        "colab": {
          "base_uri": "https://localhost:8080/"
        },
        "id": "I8XtODa3pCBm",
        "outputId": "f4481529-8a4d-4f9e-ce5f-d8d11f32b9dd"
      },
      "execution_count": 19,
      "outputs": [
        {
          "output_type": "stream",
          "name": "stdout",
          "text": [
            "Brute Force Check:\n",
            "Hold 11ms: Distance = 209mm (Win)\n",
            "Hold 12ms: Distance = 216mm (Win)\n",
            "Hold 13ms: Distance = 221mm (Win)\n",
            "Hold 14ms: Distance = 224mm (Win)\n",
            "Hold 15ms: Distance = 225mm (Win)\n",
            "Hold 16ms: Distance = 224mm (Win)\n",
            "Hold 17ms: Distance = 221mm (Win)\n",
            "Hold 18ms: Distance = 216mm (Win)\n",
            "Hold 19ms: Distance = 209mm (Win)\n",
            "\n",
            "Quadratic Solution:\n",
            "Roots: 10.00, 20.00\n",
            "Valid hold times: 10 to 20\n"
          ]
        }
      ]
    },
    {
      "cell_type": "code",
      "source": [
        "def find_winning_ways_quadratic(time, record_distance):\n",
        "    a = -1\n",
        "    b = time\n",
        "    c = -record_distance\n",
        "\n",
        "    discriminant = b*b - 4*a*c\n",
        "    root1 = (-b + math.sqrt(discriminant))/(2*a)\n",
        "    root2 = (-b - math.sqrt(discriminant))/(2*a)\n",
        "\n",
        "    # We need to:\n",
        "    # 1. Ceil the lower bound because we need strictly greater than record\n",
        "    # 2. Floor the upper bound for integer values\n",
        "    start = math.ceil(root1)  # Use root1 directly as it's the lower bound\n",
        "    end = math.floor(root2)   # Use root2 directly as it's the upper bound\n",
        "\n",
        "    return end - start + 1\n",
        "\n",
        "# Test all races\n",
        "total = 1\n",
        "for time, distance in zip(times, distances):\n",
        "    ways = find_winning_ways_quadratic(time, distance)\n",
        "    print(f\"Race {time}ms: {ways} ways to win\")\n",
        "    total *= ways\n",
        "\n",
        "print(f\"Total: {total}\")"
      ],
      "metadata": {
        "colab": {
          "base_uri": "https://localhost:8080/"
        },
        "id": "MD0emN-cpczi",
        "outputId": "6e4aad40-5eca-401c-8fbf-90b0a7673051"
      },
      "execution_count": 20,
      "outputs": [
        {
          "output_type": "stream",
          "name": "stdout",
          "text": [
            "Race 7ms: 4 ways to win\n",
            "Race 15ms: 8 ways to win\n",
            "Race 30ms: 11 ways to win\n",
            "Total: 352\n"
          ]
        }
      ]
    },
    {
      "cell_type": "code",
      "source": [],
      "metadata": {
        "id": "dDqo7Bscpoio"
      },
      "execution_count": null,
      "outputs": []
    }
  ]
}